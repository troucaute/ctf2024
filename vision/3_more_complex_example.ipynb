{
  "cells": [
    {
      "cell_type": "markdown",
      "id": "d12592e4",
      "metadata": {
        "editable": true,
        "id": "d12592e4"
      },
      "source": [
        "# Session 2 Going Further, Discovering class-imbalance in datasets\n",
        "\n",
        "<a rel=\"license\" href=\"http://creativecommons.org/licenses/by-nc-sa/4.0/\"><img alt=\"Creative Commons License\" align=\"left\" src=\"https://i.creativecommons.org/l/by-nc-sa/4.0/80x15.png\" /></a>&nbsp;| Florient Chouteau | <a href=\"https://supaerodatascience.github.io/deep-learning/\">https://supaerodatascience.github.io/deep-learning/</a>\n",
        "\n",
        "Since we have done the most basic training example, got our hands on skorch and on the dataset, we are going to repeat our process using a more realistic use case. This time, our dataset will be severely unbalanced (10% of all data will be images of aircrafts), like in real life (or not even like in real life but it's getting closer).\n",
        "\n",
        "Here, we won't guide you, you will have to use what you learned in the previous notebooks as well as what you learned in previous data science class to try to devise a way to train a good model\n",
        "\n",
        "You are going to:\n",
        "- Do a first \"naive\" run with the full data\n",
        "- Diagnose performance\n",
        "- Try to improve it by tuning several factors:\n",
        "  - The dataset itself\n",
        "  - The optimization parameters\n",
        "  - The network architecture\n",
        "\n",
        "**Remember that \"deep learning\" is still considered somewhat a black art so it's hard to know in advance what will work.**\n"
      ]
    },
    {
      "cell_type": "code",
      "execution_count": 3,
      "id": "eac392bf",
      "metadata": {
        "id": "eac392bf"
      },
      "outputs": [],
      "source": [
        "# Put your imports here\n",
        "import matplotlib.pyplot as plt\n",
        "import numpy as np"
      ]
    },
    {
      "cell_type": "code",
      "execution_count": 4,
      "id": "5a431845",
      "metadata": {
        "id": "5a431845"
      },
      "outputs": [],
      "source": [
        "# Global variables\n",
        "TRAINVAL_DATASET_URL = \"https://storage.googleapis.com/fchouteau-isae-deep-learning/large_aircraft_dataset_2023.npz\""
      ]
    },
    {
      "cell_type": "markdown",
      "id": "24abcb3a",
      "metadata": {
        "editable": true,
        "id": "24abcb3a"
      },
      "source": [
        "## Q0. Downloading & splitting the dataset\n",
        "\n",
        "You will get the following:\n",
        "\n",
        "- 50k images in training which you should use as training & validation\n",
        "- 5k images in test, which you should only use to compute your final metrics on. **Don't ever use this dataset for early stopping / intermediary metrics**\n",
        "\n",
        "![](https://github.com/SupaeroDataScience/deep-learning/blob/main/vision/osBuF.png?raw=true)\n",
        "![](https://raw.githubusercontent.com/SupaeroDataScience/deep-learning/refs/heads/main/vision/pXAfX.png)"
      ]
    },
    {
      "cell_type": "code",
      "execution_count": 5,
      "id": "1fd58254",
      "metadata": {
        "editable": true,
        "id": "1fd58254"
      },
      "outputs": [],
      "source": [
        "# Download the dataset\n",
        "ds = np.lib.npyio.DataSource(\"/tmp/\")\n",
        "f = ds.open(TRAINVAL_DATASET_URL, \"rb\")\n",
        "trainval_dataset = np.load(f)\n",
        "trainval_images = trainval_dataset[\"train_images\"]\n",
        "trainval_labels = trainval_dataset[\"train_labels\"]\n",
        "test_images = trainval_dataset[\"test_images\"]\n",
        "test_labels = trainval_dataset[\"test_labels\"]"
      ]
    },
    {
      "cell_type": "code",
      "execution_count": 7,
      "id": "ac04810b",
      "metadata": {
        "id": "ac04810b",
        "outputId": "cf78e263-d96e-4ad3-b276-d215c532d4e0",
        "colab": {
          "base_uri": "https://localhost:8080/"
        }
      },
      "outputs": [
        {
          "output_type": "stream",
          "name": "stdout",
          "text": [
            "(92000, 64, 64, 3)\n",
            "(array([0, 1]), array([87400,  4600]))\n",
            "(20480, 64, 64, 3)\n",
            "(array([0, 1]), array([19456,  1024]))\n"
          ]
        }
      ],
      "source": [
        "print(trainval_images.shape)\n",
        "print(np.unique(trainval_labels, return_counts=True))\n",
        "\n",
        "print(test_images.shape)\n",
        "print(np.unique(test_labels, return_counts=True))"
      ]
    },
    {
      "cell_type": "markdown",
      "id": "5e65e19a",
      "metadata": {
        "editable": true,
        "id": "5e65e19a"
      },
      "source": [
        "### a. Data Exploration\n",
        "\n",
        "a. Can you plot some images ?\n",
        "\n",
        "b. What is the aircraft/background ratio ?"
      ]
    },
    {
      "cell_type": "code",
      "execution_count": 19,
      "id": "052e9463",
      "metadata": {
        "id": "052e9463",
        "outputId": "c92b3f33-7680-49eb-8a59-390a16d13a5a",
        "colab": {
          "base_uri": "https://localhost:8080/",
          "height": 456
        }
      },
      "outputs": [
        {
          "output_type": "display_data",
          "data": {
            "text/plain": [
              "<Figure size 1500x500 with 4 Axes>"
            ],
            "image/png": "[encoded data removed]"
          },
          "metadata": {}
        },
        {
          "output_type": "stream",
          "name": "stdout",
          "text": [
            "Labels counts :\n",
            " Label: Not an aircraft , value: 0, count: 87400\n",
            " Label: Aircraft , value: 1, count: 4600\n",
            "Examples shape for label 0 : (87400, 64, 64, 3)\n",
            "Examples shape for label 1 : (4600, 64, 64, 3)\n"
          ]
        }
      ],
      "source": [
        "# prompt: plot the 2 first images of trainval_images\n",
        "\n",
        "fig, axes = plt.subplots(1, 4, figsize=(15, 5))  # Crée 4 sous-graphiques sur une ligne\n",
        "\n",
        "# Affiche les 4 premières images avec leurs labels\n",
        "for i in range(4):\n",
        "    axes[i].imshow(trainval_images[i])\n",
        "    axes[i].set_title(f\"Image {i}, Label: {trainval_labels[i]}\")\n",
        "    axes[i].axis(\"off\")  # Supprime les axes pour une visualisation plus propre\n",
        "\n",
        "plt.tight_layout()\n",
        "plt.show()\n",
        "\n",
        "LABEL_NAMES = [\"Not an aircraft\", \"Aircraft\"]\n",
        "\n",
        "print(\"Labels counts :\")\n",
        "for l, c, label in zip(*np.unique(trainval_labels, return_counts=True), LABEL_NAMES):\n",
        "    print(f\" Label: {label} , value: {l}, count: {c}\")\n",
        "\n",
        "for l, label in enumerate(LABEL_NAMES):\n",
        "    print(\n",
        "        f\"Examples shape for label {l} : {trainval_images[trainval_labels == l, ::].shape}\"\n",
        "    )"
      ]
    },
    {
      "cell_type": "markdown",
      "id": "8e0b67a8",
      "metadata": {
        "id": "8e0b67a8"
      },
      "source": [
        "### b. Dataset Splitting\n",
        "\n",
        "Here we will split the trainval_dataset to obtain a training and a validation dataset.\n",
        "\n",
        "For example, try to use 20% of the images as validation\n",
        "\n",
        "You must have seen that the dataset was really unbalanced, so a random sampling will not work...\n",
        "\n",
        "Use stratified sampling to keep the label distribution between training and validation"
      ]
    },
    {
      "cell_type": "code",
      "execution_count": 20,
      "id": "00d138e3",
      "metadata": {
        "id": "00d138e3"
      },
      "outputs": [],
      "source": [
        "# Hint to get your started\n",
        "background_indexes = np.where(trainval_labels == 0)[0]\n",
        "foreground_indexes = np.where(trainval_labels == 1)[0]\n",
        "\n",
        "train_bg_indexes = background_indexes[: int(0.8 * len(background_indexes))]\n",
        "valid_bg_indexes = background_indexes[int(0.8 * len(background_indexes)) :]\n",
        "\n",
        "train_fg_indexes = foreground_indexes[: int(0.8 * len(foreground_indexes))]\n",
        "valid_fg_indexes = foreground_indexes[int(0.8 * len(foreground_indexes)) :]\n",
        "\n",
        "train_indexes = list(train_bg_indexes) + list(train_fg_indexes)\n",
        "valid_indexes = list(valid_bg_indexes) + list(valid_fg_indexes)\n",
        "\n",
        "train_images = trainval_images[train_indexes, :, :, :]\n",
        "train_labels = trainval_labels[train_indexes]\n",
        "\n",
        "valid_images = trainval_images[valid_indexes, :, :, :]\n",
        "valid_labels = trainval_labels[valid_indexes]"
      ]
    },
    {
      "cell_type": "code",
      "execution_count": 21,
      "id": "bb8ff4c1",
      "metadata": {
        "id": "bb8ff4c1",
        "outputId": "ca016f82-e7b6-4c6a-94af-6b4d312d335f",
        "colab": {
          "base_uri": "https://localhost:8080/"
        }
      },
      "outputs": [
        {
          "output_type": "stream",
          "name": "stdout",
          "text": [
            "(array([0, 1]), array([69920,  3680]))\n"
          ]
        }
      ],
      "source": [
        "print(np.unique(train_labels, return_counts=True))"
      ]
    },
    {
      "cell_type": "code",
      "execution_count": 22,
      "id": "c9c0980f",
      "metadata": {
        "id": "c9c0980f",
        "outputId": "86e237ec-b920-4c19-f14a-95ce0fcc8442",
        "colab": {
          "base_uri": "https://localhost:8080/"
        }
      },
      "outputs": [
        {
          "output_type": "stream",
          "name": "stdout",
          "text": [
            "(array([0, 1]), array([17480,   920]))\n"
          ]
        }
      ],
      "source": [
        "print(np.unique(valid_labels, return_counts=True))"
      ]
    },
    {
      "cell_type": "code",
      "execution_count": 23,
      "id": "dce4bf34",
      "metadata": {
        "id": "dce4bf34",
        "outputId": "aa14d171-f7bb-482c-958a-f9051c10ecf6",
        "colab": {
          "base_uri": "https://localhost:8080/"
        }
      },
      "outputs": [
        {
          "output_type": "execute_result",
          "data": {
            "text/plain": [
              "(array([0.27097261, 0.28543216, 0.26042753]),\n",
              " array([0.16172096, 0.15993669, 0.15175542]))"
            ]
          },
          "metadata": {},
          "execution_count": 23
        }
      ],
      "source": [
        "# Compute the dataset statistics in [0.,1.], we're going to use it to normalize our data\n",
        "\n",
        "mean = np.mean(train_images, axis=(0, 1, 2)) / 255.0\n",
        "std = np.std(train_images, axis=(0, 1, 2)) / 255.0\n",
        "\n",
        "mean, std"
      ]
    },
    {
      "cell_type": "markdown",
      "id": "c4ff5c60",
      "metadata": {
        "editable": true,
        "id": "c4ff5c60"
      },
      "source": [
        "## Q1. Training & metrics\n",
        "\n",
        "During Session 1, you learnt how to set up your environment on Colab, train a basic CNN on a small training set and plot metrics. Now let's do it again !"
      ]
    },
    {
      "cell_type": "markdown",
      "id": "ad07a62d",
      "metadata": {
        "editable": true,
        "id": "ad07a62d"
      },
      "source": [
        "### First run\n",
        "\n",
        "Once you have downloaded & created your training & validation dataset, use the notebook from Session 1 to get:\n",
        "\n",
        "a. Training of the model using steps seen during Session 1\n",
        "\n",
        "b. Compute and plot metrics (confusion matrix, ROC curve) based on this training\n",
        "\n",
        "c. Compare the metrics between this new dataset and the one from Session 1\n",
        "\n",
        "d. What did you expect ? Is your model working well ?"
      ]
    },
    {
      "cell_type": "code",
      "execution_count": 24,
      "id": "72f16c0c",
      "metadata": {
        "id": "72f16c0c"
      },
      "outputs": [],
      "source": [
        "from typing import Callable\n",
        "\n",
        "import torch\n",
        "import torch.nn.functional as F\n",
        "from PIL import Image\n",
        "from torch import nn, optim\n",
        "from torch.utils.data import DataLoader, Dataset\n",
        "from torchvision import datasets, transforms"
      ]
    },
    {
      "cell_type": "code",
      "execution_count": 25,
      "id": "8fb12ee3",
      "metadata": {
        "id": "8fb12ee3",
        "outputId": "674a5035-09f8-49f6-9a89-cd6bf8e80145",
        "colab": {
          "base_uri": "https://localhost:8080/"
        }
      },
      "outputs": [
        {
          "output_type": "stream",
          "name": "stdout",
          "text": [
            "cpu\n"
          ]
        }
      ],
      "source": [
        "# Apple Silicon Support\n",
        "if torch.backends.mps.is_available() and torch.backends.mps.is_built():\n",
        "    DEVICE = torch.device(\"mps\")\n",
        "# NVIDIA GPU\n",
        "elif torch.cuda.is_available():\n",
        "    DEVICE = torch.device(\"cuda:0\")\n",
        "# Fallback to CPU\n",
        "else:\n",
        "    DEVICE = torch.device(\"cpu\")\n",
        "\n",
        "print(DEVICE)"
      ]
    },
    {
      "cell_type": "code",
      "execution_count": 26,
      "id": "10f0b288",
      "metadata": {
        "id": "10f0b288"
      },
      "outputs": [],
      "source": [
        "# Helper functions to get you started\n",
        "class NpArrayDataset(Dataset):\n",
        "    def __init__(\n",
        "        self,\n",
        "        images: np.ndarray,\n",
        "        labels: np.ndarray,\n",
        "        image_transforms: Callable = None,\n",
        "        label_transforms: Callable = None,\n",
        "    ):\n",
        "        self.images = images\n",
        "        self.labels = labels\n",
        "        self.image_transforms = image_transforms\n",
        "        self.label_transforms = label_transforms\n",
        "\n",
        "    def __len__(self):\n",
        "        return self.images.shape[0]\n",
        "\n",
        "    def __getitem__(self, index: int):\n",
        "        x = self.images[index]\n",
        "        y = self.labels[index]\n",
        "\n",
        "        if self.image_transforms is not None:\n",
        "            x = self.image_transforms(x)\n",
        "        else:\n",
        "            x = torch.tensor(x)\n",
        "\n",
        "        if self.label_transforms is not None:\n",
        "            y = self.label_transforms(y)\n",
        "        else:\n",
        "            y = torch.tensor(y)\n",
        "\n",
        "        return x, y"
      ]
    },
    {
      "cell_type": "code",
      "execution_count": 37,
      "id": "7f1a40b0",
      "metadata": {
        "id": "7f1a40b0"
      },
      "outputs": [],
      "source": [
        "# Data loading\n",
        "image_transforms = transforms.Compose(\n",
        "    [\n",
        "        # Add data augmentation ?\n",
        "        transforms.ToTensor(),\n",
        "        transforms.Normalize(mean, std),\n",
        "    ]\n",
        ")\n",
        "\n",
        "target_transforms = None\n",
        "\n",
        "# load the training data\n",
        "train_set = NpArrayDataset(\n",
        "    images=train_images,\n",
        "    labels=train_labels,\n",
        "    image_transforms=image_transforms,\n",
        "    label_transforms=target_transforms,\n",
        ")\n",
        "train_loader = DataLoader(train_set, batch_size=64, shuffle=True)\n",
        "\n",
        "# load the validation data\n",
        "validation_set = NpArrayDataset(\n",
        "    images=valid_images,\n",
        "    labels=valid_labels,\n",
        "    image_transforms=image_transforms,\n",
        "    label_transforms=target_transforms,\n",
        ")\n",
        "val_loader = DataLoader(validation_set, batch_size=64, shuffle=True)"
      ]
    },
    {
      "cell_type": "markdown",
      "id": "ae128157",
      "metadata": {
        "id": "ae128157"
      },
      "source": [
        "define your model, fill the blanks\n",
        "\n",
        "Be careful, this time we are zero padding images so convolutions do not reduce image size !\n",
        "\n",
        "![padding](https://raw.githubusercontent.com/vdumoulin/conv_arithmetic/master/gif/same_padding_no_strides.gif)"
      ]
    },
    {
      "cell_type": "code",
      "execution_count": 59,
      "id": "3d5dde68",
      "metadata": {
        "lines_to_next_cell": 2,
        "id": "3d5dde68",
        "outputId": "964954c0-7945-4e05-fa27-48ca7030428c",
        "colab": {
          "base_uri": "https://localhost:8080/"
        }
      },
      "outputs": [
        {
          "output_type": "execute_result",
          "data": {
            "text/plain": [
              "Sequential(\n",
              "  (0): Conv2d(3, 32, kernel_size=(3, 3), stride=(1, 1), padding=(1, 1))\n",
              "  (1): ReLU()\n",
              "  (2): Conv2d(32, 32, kernel_size=(3, 3), stride=(1, 1), padding=(1, 1))\n",
              "  (3): ReLU()\n",
              "  (4): MaxPool2d(kernel_size=2, stride=2, padding=0, dilation=1, ceil_mode=False)\n",
              "  (5): Conv2d(32, 64, kernel_size=(3, 3), stride=(1, 1), padding=(1, 1))\n",
              "  (6): ReLU()\n",
              "  (7): Conv2d(64, 64, kernel_size=(3, 3), stride=(1, 1), padding=(1, 1))\n",
              "  (8): ReLU()\n",
              "  (9): MaxPool2d(kernel_size=2, stride=2, padding=0, dilation=1, ceil_mode=False)\n",
              "  (10): Conv2d(64, 128, kernel_size=(3, 3), stride=(1, 1), padding=(1, 1))\n",
              "  (11): ReLU()\n",
              "  (12): Conv2d(128, 128, kernel_size=(3, 3), stride=(1, 1), padding=(1, 1))\n",
              "  (13): ReLU()\n",
              "  (14): MaxPool2d(kernel_size=2, stride=2, padding=0, dilation=1, ceil_mode=False)\n",
              "  (15): Conv2d(128, 128, kernel_size=(3, 3), stride=(1, 1), padding=(1, 1))\n",
              "  (16): ReLU()\n",
              "  (17): Conv2d(128, 128, kernel_size=(3, 3), stride=(1, 1), padding=(1, 1))\n",
              "  (18): ReLU()\n",
              "  (19): MaxPool2d(kernel_size=2, stride=2, padding=0, dilation=1, ceil_mode=False)\n",
              "  (20): Flatten(start_dim=1, end_dim=-1)\n",
              "  (21): Linear(in_features=2048, out_features=256, bias=True)\n",
              "  (22): ReLU()\n",
              "  (23): Dropout(p=0.1, inplace=False)\n",
              "  (24): Linear(in_features=256, out_features=1, bias=True)\n",
              "  (25): Sigmoid()\n",
              ")"
            ]
          },
          "metadata": {},
          "execution_count": 59
        }
      ],
      "source": [
        "def _init_weights(model):\n",
        "    for m in model.modules():\n",
        "        # Initialize all convs\n",
        "        if isinstance(m, nn.Conv2d):\n",
        "            nn.init.kaiming_normal_(m.weight, mode=\"fan_in\", nonlinearity=\"relu\")\n",
        "        if isinstance(m, nn.Linear):\n",
        "            nn.init.kaiming_normal_(m.weight, mode=\"fan_in\", nonlinearity=\"relu\")\n",
        "\n",
        "\n",
        "def model_fn():\n",
        "    model = nn.Sequential(\n",
        "        # size: 3 x 64 x 64\n",
        "        nn.Conv2d(in_channels=3, out_channels=32, kernel_size=3, padding=1),\n",
        "        # size: 32 x 64 x 64\n",
        "        nn.ReLU(),\n",
        "        nn.Conv2d(in_channels=32, out_channels=32, kernel_size=3, padding=1),\n",
        "        nn.ReLU(),\n",
        "        nn.MaxPool2d(2),\n",
        "        # size: 32 x 32 x 32\n",
        "        nn.Conv2d(in_channels=32, out_channels=64, kernel_size=3, padding=1),\n",
        "        nn.ReLU(),\n",
        "        nn.Conv2d(in_channels=64, out_channels=64, kernel_size=3, padding=1),\n",
        "        nn.ReLU(),\n",
        "        # size: 64 x 32 x 32\n",
        "        nn.MaxPool2d(2),\n",
        "        # size: 64 x 16 x16\n",
        "        nn.Conv2d(in_channels=64, out_channels=128, kernel_size=3, padding=1),\n",
        "        nn.ReLU(),\n",
        "        nn.Conv2d(in_channels=128, out_channels=128, kernel_size=3, padding=1),\n",
        "        nn.ReLU(),\n",
        "        nn.MaxPool2d(2),\n",
        "        # size: ? x ? x ?\n",
        "        nn.Conv2d(in_channels=128, out_channels=128, kernel_size=3, padding=1),\n",
        "        nn.ReLU(),\n",
        "        nn.Conv2d(in_channels=128, out_channels=128, kernel_size=3, padding=1),\n",
        "        nn.ReLU(),\n",
        "        nn.MaxPool2d(2),\n",
        "        # size: ? x ? x ?\n",
        "        nn.Flatten(),\n",
        "        nn.Linear(in_features=128*4*4, out_features=256),\n",
        "        nn.ReLU(),\n",
        "        nn.Dropout(p=0.10),\n",
        "        nn.Linear(in_features=256, out_features=1),\n",
        "        nn.Sigmoid(),\n",
        "    )\n",
        "\n",
        "    _init_weights(model)\n",
        "\n",
        "    return model\n",
        "\n",
        "\n",
        "model_name = 'model_theo'\n",
        "model = model_fn()\n",
        "\n",
        "model.to(DEVICE)"
      ]
    },
    {
      "cell_type": "code",
      "source": [],
      "metadata": {
        "id": "kLEfr4gX9Xr9"
      },
      "id": "kLEfr4gX9Xr9",
      "execution_count": 59,
      "outputs": []
    },
    {
      "cell_type": "code",
      "execution_count": 60,
      "id": "2d83906b",
      "metadata": {
        "id": "2d83906b",
        "outputId": "cf6ddb70-e608-458d-b4dd-21fe0e43f548",
        "colab": {
          "base_uri": "https://localhost:8080/"
        }
      },
      "outputs": [
        {
          "output_type": "stream",
          "name": "stdout",
          "text": [
            "Sequential(\n",
            "  (0): Conv2d(3, 32, kernel_size=(3, 3), stride=(1, 1), padding=(1, 1))\n",
            "  (1): ReLU()\n",
            "  (2): Conv2d(32, 32, kernel_size=(3, 3), stride=(1, 1), padding=(1, 1))\n",
            "  (3): ReLU()\n",
            "  (4): MaxPool2d(kernel_size=2, stride=2, padding=0, dilation=1, ceil_mode=False)\n",
            "  (5): Conv2d(32, 64, kernel_size=(3, 3), stride=(1, 1), padding=(1, 1))\n",
            "  (6): ReLU()\n",
            "  (7): Conv2d(64, 64, kernel_size=(3, 3), stride=(1, 1), padding=(1, 1))\n",
            "  (8): ReLU()\n",
            "  (9): MaxPool2d(kernel_size=2, stride=2, padding=0, dilation=1, ceil_mode=False)\n",
            "  (10): Conv2d(64, 128, kernel_size=(3, 3), stride=(1, 1), padding=(1, 1))\n",
            "  (11): ReLU()\n",
            "  (12): Conv2d(128, 128, kernel_size=(3, 3), stride=(1, 1), padding=(1, 1))\n",
            "  (13): ReLU()\n",
            "  (14): MaxPool2d(kernel_size=2, stride=2, padding=0, dilation=1, ceil_mode=False)\n",
            "  (15): Conv2d(128, 128, kernel_size=(3, 3), stride=(1, 1), padding=(1, 1))\n",
            "  (16): ReLU()\n",
            "  (17): Conv2d(128, 128, kernel_size=(3, 3), stride=(1, 1), padding=(1, 1))\n",
            "  (18): ReLU()\n",
            "  (19): MaxPool2d(kernel_size=2, stride=2, padding=0, dilation=1, ceil_mode=False)\n",
            "  (20): Flatten(start_dim=1, end_dim=-1)\n",
            "  (21): Linear(in_features=2048, out_features=256, bias=True)\n",
            "  (22): ReLU()\n",
            "  (23): Dropout(p=0.1, inplace=False)\n",
            "  (24): Linear(in_features=256, out_features=1, bias=True)\n",
            "  (25): Sigmoid()\n",
            ")\n"
          ]
        }
      ],
      "source": [
        "print(model)"
      ]
    },
    {
      "cell_type": "code",
      "execution_count": 61,
      "id": "7865b5b7",
      "metadata": {
        "id": "7865b5b7"
      },
      "outputs": [],
      "source": [
        "# declare optimizers and loss\n",
        "def setup_training():\n",
        "    model = model_fn()\n",
        "    model.to(DEVICE)\n",
        "\n",
        "    optimizer = optim.Adam(model.parameters(), lr=0.001)\n",
        "    criterion = nn.BCELoss()\n",
        "\n",
        "    return model, optimizer, criterion"
      ]
    },
    {
      "cell_type": "code",
      "execution_count": 62,
      "id": "df5fd8d4",
      "metadata": {
        "id": "df5fd8d4"
      },
      "outputs": [],
      "source": [
        "# Run your training and plot your train/val metrics"
      ]
    },
    {
      "cell_type": "markdown",
      "id": "775ffd49",
      "metadata": {
        "editable": true,
        "id": "775ffd49"
      },
      "source": [
        "### Test metrics, introduction to PR Curves\n",
        "\n",
        "During the previous notebook you plotted the Receiver Operating Characteristic curve. This is not ideal when dealing with imbalanced dataset since the issue of class imbalance can result in a serious bias towards the majority class, reducing the classification performance and increasing the number of **false positives**. Furthermore, in ROC curve calculation, true negatives don't have such meaning any longer.\n",
        "\n",
        "Instead this time we will plot the Precision Recall curve of our model which uses precision and recall to evaluate models.\n",
        "\n",
        "![](https://cdn-images-1.medium.com/fit/t/1600/480/1*Ub0nZTXYT8MxLzrz0P7jPA.png)\n",
        "\n",
        "![](https://modtools.files.wordpress.com/2020/01/roc_pr-1.png?w=946)\n",
        "\n",
        "Refer here for a tutorial on how to plot such curve:\n",
        "\n",
        "https://scikit-learn.org/stable/modules/generated/sklearn.metrics.precision_recall_curve.html\n",
        "\n",
        "More details on PR Curve:\n",
        "\n",
        "https://scikit-learn.org/stable/auto_examples/model_selection/plot_precision_recall.html\n",
        "\n",
        "https://www.datascienceblog.net/post/machine-learning/interpreting-roc-curves-auc/\n",
        "\n",
        "**e. Plot the ROC curve of your model as well as its PR Curve, on the test set, compare them, which is easier to interpret ?**"
      ]
    },
    {
      "cell_type": "code",
      "execution_count": 63,
      "id": "e09c5d13",
      "metadata": {
        "id": "e09c5d13"
      },
      "outputs": [],
      "source": [
        "# Plot ROC curve"
      ]
    },
    {
      "cell_type": "code",
      "execution_count": 73,
      "id": "4c647d1c",
      "metadata": {
        "id": "4c647d1c",
        "outputId": "d8c18b7e-669d-40cc-d6f9-547cdbc5221f",
        "colab": {
          "base_uri": "https://localhost:8080/",
          "height": 408
        }
      },
      "outputs": [
        {
          "output_type": "stream",
          "name": "stdout",
          "text": [
            "(16, 1)\n",
            "[0.85 0.86 0.82 0.59 0.78 0.8  0.91 0.62 0.89 0.8  0.85 0.87 0.8  0.83\n",
            " 0.86 0.85]\n"
          ]
        },
        {
          "output_type": "error",
          "ename": "ValueError",
          "evalue": "Found input variables with inconsistent numbers of samples: [73600, 16]",
          "traceback": [
            "\u001b[0;31m---------------------------------------------------------------------------\u001b[0m",
            "\u001b[0;31mValueError\u001b[0m                                Traceback (most recent call last)",
            "\u001b[0;32m<ipython-input-73-0113c5d449e9>\u001b[0m in \u001b[0;36m<cell line: 31>\u001b[0;34m()\u001b[0m\n\u001b[1;32m     29\u001b[0m \u001b[0mprint\u001b[0m\u001b[0;34m(\u001b[0m\u001b[0my_pred_probas\u001b[0m\u001b[0;34m)\u001b[0m\u001b[0;34m\u001b[0m\u001b[0;34m\u001b[0m\u001b[0m\n\u001b[1;32m     30\u001b[0m \u001b[0;34m\u001b[0m\u001b[0m\n\u001b[0;32m---> 31\u001b[0;31m \u001b[0mprecisions\u001b[0m\u001b[0;34m,\u001b[0m \u001b[0mrecalls\u001b[0m\u001b[0;34m,\u001b[0m \u001b[0mthresholds\u001b[0m \u001b[0;34m=\u001b[0m \u001b[0mprecision_recall_curve\u001b[0m\u001b[0;34m(\u001b[0m\u001b[0mtrain_labels\u001b[0m\u001b[0;34m,\u001b[0m \u001b[0my_pred_probas\u001b[0m\u001b[0;34m,\u001b[0m \u001b[0mpos_label\u001b[0m\u001b[0;34m=\u001b[0m\u001b[0;36m1\u001b[0m\u001b[0;34m)\u001b[0m\u001b[0;34m\u001b[0m\u001b[0;34m\u001b[0m\u001b[0m\n\u001b[0m\u001b[1;32m     32\u001b[0m \u001b[0;34m\u001b[0m\u001b[0m\n\u001b[1;32m     33\u001b[0m \u001b[0map\u001b[0m \u001b[0;34m=\u001b[0m \u001b[0maverage_precision_score\u001b[0m\u001b[0;34m(\u001b[0m\u001b[0mtrain_labels\u001b[0m\u001b[0;34m,\u001b[0m \u001b[0my_pred\u001b[0m\u001b[0;34m)\u001b[0m\u001b[0;34m\u001b[0m\u001b[0;34m\u001b[0m\u001b[0m\n",
            "\u001b[0;32m/usr/local/lib/python3.10/dist-packages/sklearn/utils/_param_validation.py\u001b[0m in \u001b[0;36mwrapper\u001b[0;34m(*args, **kwargs)\u001b[0m\n\u001b[1;32m    211\u001b[0m                     )\n\u001b[1;32m    212\u001b[0m                 ):\n\u001b[0;32m--> 213\u001b[0;31m                     \u001b[0;32mreturn\u001b[0m \u001b[0mfunc\u001b[0m\u001b[0;34m(\u001b[0m\u001b[0;34m*\u001b[0m\u001b[0margs\u001b[0m\u001b[0;34m,\u001b[0m \u001b[0;34m**\u001b[0m\u001b[0mkwargs\u001b[0m\u001b[0;34m)\u001b[0m\u001b[0;34m\u001b[0m\u001b[0;34m\u001b[0m\u001b[0m\n\u001b[0m\u001b[1;32m    214\u001b[0m             \u001b[0;32mexcept\u001b[0m \u001b[0mInvalidParameterError\u001b[0m \u001b[0;32mas\u001b[0m \u001b[0me\u001b[0m\u001b[0;34m:\u001b[0m\u001b[0;34m\u001b[0m\u001b[0;34m\u001b[0m\u001b[0m\n\u001b[1;32m    215\u001b[0m                 \u001b[0;31m# When the function is just a wrapper around an estimator, we allow\u001b[0m\u001b[0;34m\u001b[0m\u001b[0;34m\u001b[0m\u001b[0m\n",
            "\u001b[0;32m/usr/local/lib/python3.10/dist-packages/sklearn/metrics/_ranking.py\u001b[0m in \u001b[0;36mprecision_recall_curve\u001b[0;34m(y_true, y_score, pos_label, sample_weight, drop_intermediate, probas_pred)\u001b[0m\n\u001b[1;32m   1000\u001b[0m         \u001b[0my_score\u001b[0m \u001b[0;34m=\u001b[0m \u001b[0mprobas_pred\u001b[0m\u001b[0;34m\u001b[0m\u001b[0;34m\u001b[0m\u001b[0m\n\u001b[1;32m   1001\u001b[0m \u001b[0;34m\u001b[0m\u001b[0m\n\u001b[0;32m-> 1002\u001b[0;31m     fps, tps, thresholds = _binary_clf_curve(\n\u001b[0m\u001b[1;32m   1003\u001b[0m         \u001b[0my_true\u001b[0m\u001b[0;34m,\u001b[0m \u001b[0my_score\u001b[0m\u001b[0;34m,\u001b[0m \u001b[0mpos_label\u001b[0m\u001b[0;34m=\u001b[0m\u001b[0mpos_label\u001b[0m\u001b[0;34m,\u001b[0m \u001b[0msample_weight\u001b[0m\u001b[0;34m=\u001b[0m\u001b[0msample_weight\u001b[0m\u001b[0;34m\u001b[0m\u001b[0;34m\u001b[0m\u001b[0m\n\u001b[1;32m   1004\u001b[0m     )\n",
            "\u001b[0;32m/usr/local/lib/python3.10/dist-packages/sklearn/metrics/_ranking.py\u001b[0m in \u001b[0;36m_binary_clf_curve\u001b[0;34m(y_true, y_score, pos_label, sample_weight)\u001b[0m\n\u001b[1;32m    817\u001b[0m         \u001b[0;32mraise\u001b[0m \u001b[0mValueError\u001b[0m\u001b[0;34m(\u001b[0m\u001b[0;34m\"{0} format is not supported\"\u001b[0m\u001b[0;34m.\u001b[0m\u001b[0mformat\u001b[0m\u001b[0;34m(\u001b[0m\u001b[0my_type\u001b[0m\u001b[0;34m)\u001b[0m\u001b[0;34m)\u001b[0m\u001b[0;34m\u001b[0m\u001b[0;34m\u001b[0m\u001b[0m\n\u001b[1;32m    818\u001b[0m \u001b[0;34m\u001b[0m\u001b[0m\n\u001b[0;32m--> 819\u001b[0;31m     \u001b[0mcheck_consistent_length\u001b[0m\u001b[0;34m(\u001b[0m\u001b[0my_true\u001b[0m\u001b[0;34m,\u001b[0m \u001b[0my_score\u001b[0m\u001b[0;34m,\u001b[0m \u001b[0msample_weight\u001b[0m\u001b[0;34m)\u001b[0m\u001b[0;34m\u001b[0m\u001b[0;34m\u001b[0m\u001b[0m\n\u001b[0m\u001b[1;32m    820\u001b[0m     \u001b[0my_true\u001b[0m \u001b[0;34m=\u001b[0m \u001b[0mcolumn_or_1d\u001b[0m\u001b[0;34m(\u001b[0m\u001b[0my_true\u001b[0m\u001b[0;34m)\u001b[0m\u001b[0;34m\u001b[0m\u001b[0;34m\u001b[0m\u001b[0m\n\u001b[1;32m    821\u001b[0m     \u001b[0my_score\u001b[0m \u001b[0;34m=\u001b[0m \u001b[0mcolumn_or_1d\u001b[0m\u001b[0;34m(\u001b[0m\u001b[0my_score\u001b[0m\u001b[0;34m)\u001b[0m\u001b[0;34m\u001b[0m\u001b[0;34m\u001b[0m\u001b[0m\n",
            "\u001b[0;32m/usr/local/lib/python3.10/dist-packages/sklearn/utils/validation.py\u001b[0m in \u001b[0;36mcheck_consistent_length\u001b[0;34m(*arrays)\u001b[0m\n\u001b[1;32m    455\u001b[0m     \u001b[0muniques\u001b[0m \u001b[0;34m=\u001b[0m \u001b[0mnp\u001b[0m\u001b[0;34m.\u001b[0m\u001b[0munique\u001b[0m\u001b[0;34m(\u001b[0m\u001b[0mlengths\u001b[0m\u001b[0;34m)\u001b[0m\u001b[0;34m\u001b[0m\u001b[0;34m\u001b[0m\u001b[0m\n\u001b[1;32m    456\u001b[0m     \u001b[0;32mif\u001b[0m \u001b[0mlen\u001b[0m\u001b[0;34m(\u001b[0m\u001b[0muniques\u001b[0m\u001b[0;34m)\u001b[0m \u001b[0;34m>\u001b[0m \u001b[0;36m1\u001b[0m\u001b[0;34m:\u001b[0m\u001b[0;34m\u001b[0m\u001b[0;34m\u001b[0m\u001b[0m\n\u001b[0;32m--> 457\u001b[0;31m         raise ValueError(\n\u001b[0m\u001b[1;32m    458\u001b[0m             \u001b[0;34m\"Found input variables with inconsistent numbers of samples: %r\"\u001b[0m\u001b[0;34m\u001b[0m\u001b[0;34m\u001b[0m\u001b[0m\n\u001b[1;32m    459\u001b[0m             \u001b[0;34m%\u001b[0m \u001b[0;34m[\u001b[0m\u001b[0mint\u001b[0m\u001b[0;34m(\u001b[0m\u001b[0ml\u001b[0m\u001b[0;34m)\u001b[0m \u001b[0;32mfor\u001b[0m \u001b[0ml\u001b[0m \u001b[0;32min\u001b[0m \u001b[0mlengths\u001b[0m\u001b[0;34m]\u001b[0m\u001b[0;34m\u001b[0m\u001b[0;34m\u001b[0m\u001b[0m\n",
            "\u001b[0;31mValueError\u001b[0m: Found input variables with inconsistent numbers of samples: [73600, 16]"
          ]
        }
      ],
      "source": [
        "# Plot PR curve\n",
        "\n",
        "# Compute PR Curve\n",
        "\n",
        "\n",
        "\n",
        "import numpy as np\n",
        "from sklearn.metrics import (\n",
        "    PrecisionRecallDisplay,\n",
        "    average_precision_score,\n",
        "    precision_recall_curve,\n",
        ")\n",
        "\n",
        "\n",
        "x = torch.rand((16, 3, 64, 64))\n",
        "\n",
        "with torch.no_grad():\n",
        "  model = model_fn()\n",
        "  y_pred = model(x).cpu().numpy()\n",
        "\n",
        "print(y_pred.shape)\n",
        "\n",
        "# We round predictions for better readability\n",
        "y_pred_probas = np.round(y_pred[:, 0],2)\n",
        "\n",
        "print(y_pred_probas)\n",
        "\n",
        "precisions, recalls, thresholds = precision_recall_curve(train_labels, y_pred_probas, pos_label=1)\n",
        "\n",
        "ap = average_precision_score(train_labels, y_pred)\n",
        "\n",
        "plt.figure()\n",
        "lw = 2\n",
        "plt.plot(\n",
        "    recalls, precisions, color=\"darkorange\", lw=lw, label=\"PR Curve (AP = %0.2f)\" % ap\n",
        ")\n",
        "plt.xlim([0.0, 1.0])\n",
        "plt.ylim([0.0, 1.05])\n",
        "plt.xlabel(\"Recall\")\n",
        "plt.ylabel(\"Precision\")\n",
        "plt.title(\"PR Curve\")\n",
        "plt.legend(loc=\"lower right\")\n",
        "plt.show()"
      ]
    },
    {
      "cell_type": "markdown",
      "id": "1233a654",
      "metadata": {
        "id": "1233a654"
      },
      "source": [
        "**f. Can you understand why PR curve may be more useful than ROC curve for diagnosing model performance when dealing with imbalanced data ?**"
      ]
    },
    {
      "cell_type": "code",
      "execution_count": null,
      "id": "e27aa4ff",
      "metadata": {
        "id": "e27aa4ff"
      },
      "outputs": [],
      "source": [
        "# Answer"
      ]
    },
    {
      "cell_type": "markdown",
      "id": "9498f88d",
      "metadata": {
        "id": "9498f88d"
      },
      "source": [
        "**g. What is Fbeta-Score ? How can it help ? How do you chose beta?**\n",
        "\n",
        "Some reading: https://towardsdatascience.com/on-roc-and-precision-recall-curves-c23e9b63820c"
      ]
    },
    {
      "cell_type": "code",
      "execution_count": null,
      "id": "b038ef0f",
      "metadata": {
        "id": "b038ef0f"
      },
      "outputs": [],
      "source": [
        "def fbeta(precision, recall, beta=1.0):\n",
        "    if p == 0.0 or r == 0.0:\n",
        "        return 0.0\n",
        "    else:\n",
        "        return (1 + beta**2) * (precision * recall) / (beta**2 * precision + recall)"
      ]
    },
    {
      "cell_type": "markdown",
      "id": "e8f04271",
      "metadata": {
        "id": "e8f04271"
      },
      "source": [
        "**h. Can you use the PR curve to choose a threshold ?**\n",
        "\n",
        "The same way you did for the ROC curve"
      ]
    },
    {
      "cell_type": "code",
      "execution_count": null,
      "id": "33bbd083",
      "metadata": {
        "id": "33bbd083"
      },
      "outputs": [],
      "source": [
        "# We round predictions every 0.05 for readability\n",
        "y_pred_probas = (y_pred[:, 0] / 0.05).astype(np.int) * 0.05\n",
        "\n",
        "precisions, recalls, thresholds = precision_recall_curve(\n",
        "    y_true, y_pred_probas, pos_label=1\n",
        ")\n",
        "\n",
        "ap = average_precision_score(y_true, y_pred)\n",
        "\n",
        "plt.clf()\n",
        "fig = plt.figure(figsize=(10, 10))\n",
        "plt.step(recalls, precisions, \"bo\", alpha=0.2, where=\"post\")\n",
        "plt.fill_between(recalls, precisions, alpha=0.2, color=\"b\", step=\"post\")\n",
        "\n",
        "for r, p, t in zip(recalls, precisions, thresholds):\n",
        "    plt.annotate(\n",
        "        np.round(t, 2),\n",
        "        xy=(r, p),\n",
        "        xytext=(r - 0.05, p - 0.05),\n",
        "        arrowprops=dict(arrowstyle=\"->\", connectionstyle=\"arc3\"),\n",
        "    )\n",
        "\n",
        "plt.xlabel(\"Recall\")\n",
        "plt.ylabel(\"Precision\")\n",
        "plt.ylim([0.0, 1.05])\n",
        "plt.xlim([0.0, 1.0])\n",
        "plt.title(\"2-class Precision-Recall curve: AP={:0.2f}\".format(ap))\n",
        "plt.show()"
      ]
    },
    {
      "cell_type": "markdown",
      "id": "ad94f093",
      "metadata": {
        "id": "ad94f093"
      },
      "source": [
        "You can also use the fbeta score to find the best threshold, for example to maximise f1 or f2...\n",
        "\n",
        "```python\n",
        "def find_best_threshold(precisions, recalls, thresholds, beta=2.):\n",
        "    best_fb = -np.inf\n",
        "    best_t = None\n",
        "    for t, p, r in zip(thresholds, precisions, recalls):\n",
        "        fb = fbeta(p, r, beta=beta)\n",
        "        if fb > best_fb:\n",
        "            best_t = t\n",
        "            best_fb = fb\n",
        "\n",
        "    return best_fb, best_t\n",
        "```"
      ]
    },
    {
      "cell_type": "code",
      "execution_count": null,
      "id": "8c2ccac7",
      "metadata": {
        "id": "8c2ccac7"
      },
      "outputs": [],
      "source": []
    },
    {
      "cell_type": "markdown",
      "id": "2882a92f",
      "metadata": {
        "editable": true,
        "id": "2882a92f"
      },
      "source": [
        "### Plot \"hard\" examples\n",
        "\n",
        "- Plot some of the missclassified examples that have true label = 0: Those are false positives\n",
        "- Plot some of the missclassified examples that have true label = 1: those are false negatives (misses)\n",
        "\n",
        "Can you interpret the false positives ?\n",
        "\n",
        "Example for False Positives\n",
        "\n",
        "```python\n",
        "misclassified_idxs = np.where(y_pred_classes == 1 && y_true == 0)[0]\n",
        "\n",
        "\n",
        "print(len(misclassified_idxs))\n",
        "\n",
        "print(misclassified_idxs)\n",
        "\n",
        "misclassified_images = test_images[misclassified_idxs]\n",
        "misclassified_true_labels = test_labels[misclassified_idxs]\n",
        "misclassified_pred_labels = y_pred_classes[misclassified_idxs]\n",
        "\n",
        "grid_size = 4\n",
        "grid = np.zeros((grid_size * 64, grid_size * 64, 3)).astype(np.uint8)\n",
        "for i in range(grid_size):\n",
        "    for j in range(grid_size):\n",
        "        img = np.copy(misclassified_images[i * grid_size + j])\n",
        "        pred = np.copy(misclassified_pred_labels[i * grid_size + j])\n",
        "        color = (0, 255, 0) if pred == 1 else (255, 0, 0)\n",
        "        tile = cv2.rectangle(img, (0, 0), (64, 64), color, thickness=2)\n",
        "        grid[i * 64 : (i + 1) * 64, j * 64 : (j + 1) * 64, :] = img\n",
        "\n",
        "fig = plt.figure(figsize=(10, 10))\n",
        "ax = fig.add_subplot(1, 1, 1)\n",
        "ax.imshow(grid)\n",
        "plt.show()\n",
        "```"
      ]
    },
    {
      "cell_type": "code",
      "execution_count": null,
      "id": "a66c9582",
      "metadata": {
        "id": "a66c9582"
      },
      "outputs": [],
      "source": [
        "# Do it here!"
      ]
    },
    {
      "cell_type": "markdown",
      "id": "676174e5",
      "metadata": {
        "editable": true,
        "id": "676174e5"
      },
      "source": [
        "## Q2. Class Imbalance\n",
        "\n",
        "We will try several things below. Those steps are only indicative and you are free to pursue other means of improving your model.\n",
        "\n",
        "Should you be lost, we refer you to the excellent \"A Recipe for Training Neural Networks\" article : https://karpathy.github.io/2019/04/25/recipe/\n",
        "\n",
        "![image.png](https://github.com/SupaeroDataScience/deep-learning/blob/main/vision/docs/static/img/mlsystem.png?raw=1)"
      ]
    },
    {
      "cell_type": "markdown",
      "id": "8c94c781",
      "metadata": {
        "editable": true,
        "id": "8c94c781"
      },
      "source": [
        "### a. Tackling the imbalanced data problem\n",
        "\n",
        "Go through your data: is the dataset balanced ? If now, which steps can I do to solve this imbalance problem ?\n",
        "\n",
        "- Which step would you take ?\n",
        "- **Don't forget to apply the same step on you train and validation dataset** but **not on your test set** as your test set should represent the final data distribution\n",
        "\n",
        "Try to decide and a method to modify only the dataset and rerun your training. Did performance improve ?\n",
        "\n",
        "\n",
        "HINT:\n",
        "- It's usually a mix of **oversampling** the minority class and **undersampling** the majority class\n",
        "\n",
        "Some readings:\n",
        "- https://www.kaggle.com/rafjaa/resampling-strategies-for-imbalanced-datasets (very well done)\n",
        "- https://machinelearningmastery.com/framework-for-imbalanced-classification-projects/ (a bigger synthesis)\n",
        "- https://machinelearningmastery.com/category/imbalanced-classification/\n",
        "\n",
        "Hint to get you started\n",
        "```python\n",
        "background_indexes = np.where(trainval_labels == 0)\n",
        "foreground_indexes = np.where(trainval_labels == 1)\n",
        "\n",
        "```"
      ]
    },
    {
      "cell_type": "markdown",
      "id": "d6bf0188",
      "metadata": {
        "editable": true,
        "id": "d6bf0188"
      },
      "source": [
        "**Exercise**\n",
        "\n",
        "Rewrite your data selection to choose the same number of background and foreground classes to put into your training / validation set\n",
        "\n",
        "Does it improve the final performance ?"
      ]
    },
    {
      "cell_type": "code",
      "execution_count": null,
      "id": "7cbd1143",
      "metadata": {
        "editable": true,
        "id": "7cbd1143"
      },
      "outputs": [],
      "source": []
    },
    {
      "cell_type": "markdown",
      "id": "098879c2",
      "metadata": {
        "editable": true,
        "id": "098879c2"
      },
      "source": [
        "### b. Hard Example Mining\n",
        "\n",
        "Another solution is called \"hard example mining\" : You could balance your dataset like before, but this time do it \"intelligently\", for example by selecting false positives and false negatives. Those are \"hard examples\",\n",
        "\n",
        "Usually we also put \"easy examples\" otherwise our dataset may be very biased\n",
        "\n",
        "<img src=\"https://encrypted-tbn0.gstatic.com/images?q=tbn:ANd9GcTA35C_SgBtMsS1bt_VR7HC2vDaK8zIlIyw9w&usqp=CAU\" alt=\"drawing\" width=\"400\"/>\n",
        "\n",
        "You can see this effect easily on a confusion matrix :\n",
        "\n",
        "<img src=\"https://miro.medium.com/max/2102/1*fxiTNIgOyvAombPJx5KGeA.png\" alt=\"drawing\" width=\"400\"/>\n",
        "\n",
        "If you want to rebalance your dataset by undersampling the 0 class, why not select more false positives than true negatives ?"
      ]
    },
    {
      "cell_type": "markdown",
      "id": "9b73cfe4",
      "metadata": {
        "editable": true,
        "id": "9b73cfe4"
      },
      "source": [
        "**Exercise**\n",
        "\n",
        "Rewrite your data selection to ensure there are false positives in your negative selected examples.\n",
        "\n",
        "Does it improve the final performance ?"
      ]
    },
    {
      "cell_type": "code",
      "execution_count": null,
      "id": "544436ce",
      "metadata": {
        "editable": true,
        "id": "544436ce"
      },
      "outputs": [],
      "source": []
    },
    {
      "cell_type": "markdown",
      "id": "2bc312c5",
      "metadata": {
        "editable": true,
        "id": "2bc312c5"
      },
      "source": [
        "**Exercise**\n",
        "\n",
        "Rewrite your data selection to ensure there are false positives in your negative selected examples.\n",
        "\n",
        "Does it improve the final performance ?"
      ]
    },
    {
      "cell_type": "code",
      "execution_count": null,
      "id": "fbe3d190",
      "metadata": {
        "id": "fbe3d190"
      },
      "outputs": [],
      "source": []
    },
    {
      "cell_type": "markdown",
      "id": "362ac839",
      "metadata": {
        "id": "362ac839"
      },
      "source": [
        "### c. Loss function change\n",
        "\n",
        "Sometimes, changing the loss function also helps solving the issue.\n",
        "\n",
        "We trained with `nn.BCELoss(reduction=\"mean\")`\n",
        "\n",
        "Try setting [weights](https://pytorch.org/docs/stable/generated/torch.nn.BCELoss.html#torch.nn.BCELoss) so that you weight more the loss on the positive samples than the negative.\n",
        "\n",
        "Some losses are also dedicated to very imbalanced problems, such as [the sigmoid focal loss](https://pytorch.org/vision/stable/generated/torchvision.ops.sigmoid_focal_loss.html#torchvision.ops.sigmoid_focal_loss)\n",
        "\n",
        "**Exercise**\n",
        "\n",
        "Try changing the loss function"
      ]
    },
    {
      "cell_type": "code",
      "execution_count": null,
      "id": "f2e6b6f0",
      "metadata": {
        "id": "f2e6b6f0"
      },
      "outputs": [],
      "source": []
    },
    {
      "cell_type": "markdown",
      "id": "4eca7885",
      "metadata": {
        "editable": true,
        "id": "4eca7885"
      },
      "source": [
        "## Q3. Transfer learning and Model architecture modification\n",
        "\n",
        "There are no absolute law concerning the structure of your deep Learning model. During the [Deep Learning class](https://github.com/SupaeroDataScience/deep-learning/blob/main/deep/Deep%20Learning.ipynb) you had an overview of existing models\n",
        "\n",
        "You can operate a modification on your structure and observe the effect on final metrics. Of course, remain consistent with credible models, cf Layer Patterns chapter on this \"must view\" course : http://cs231n.github.io/convolutional-networks/\n",
        "\n",
        "See here for an introduction to complex CNNs architectures:\n",
        "https://cs231n.stanford.edu/slides/2024/lecture_6_part_1.pdf\n",
        "\n",
        "<img src=\"https://theaisummer.com/static/dfad9981c055b1ba1a37fb3d34ccc4d8/a1792/deep-learning-architectures-plot-2018.png\" alt=\"archs\" style=\"width: 400px;\"/>\n",
        "\n",
        "### Transfer Learning\n",
        "\n",
        "For usual tasks such as classification or detection, we use \"transfer learning\":\n",
        "\n",
        "    In practice, very few people train an entire Convolutional Network from scratch (with random initialization), because it is relatively rare to have a dataset of sufficient size. Instead, it is common to pretrain a ConvNet on a very large dataset (e.g. ImageNet, which contains 1.2 million images with 1000 categories), and then use the ConvNet either as an initialization or a fixed feature extractor for the task of interest.\n",
        "    \n",
        "Adapt this tutorial to do transfer learning from a network available in torchvision to our use case\n",
        "\n",
        "https://pytorch.org/tutorials/beginner/transfer_learning_tutorial.html\n",
        "\n",
        "I advise you to select resnet18\n",
        "\n",
        "The biggest library of pretrained models is available here :\n",
        "\n",
        "https://github.com/rwightman/pytorch-image-models\n",
        "\n",
        "You can also use off the shelf architecture provided by torchvision, for example:\n",
        "\n",
        "```python\n",
        "import torchvision.models\n",
        "\n",
        "resnet18 = torchvision.models.resnet18(num_classes=2)\n",
        "```\n",
        "\n",
        "You can also use [transfer learning](https://machinelearningmastery.com/transfer-learning-for-deep-learning/) to \"finetune\" already trained features on your dataset\n",
        "\n",
        "You can adapt one of those two tutorials that use either torchvision or timm to take an existing pre-trained CNN and \"finetune int\" for your data, while training only a few parameters\n",
        "\n",
        "A simple option : [torchvision tutorial](https://pytorch.org/tutorials/beginner/transfer_learning_tutorial.html#finetuning-the-convnet)\n",
        "\n",
        "A more advanced library : [timm tutorial](https://rumn.medium.com/part-1-ultimate-guide-to-fine-tuning-in-pytorch-pre-trained-model-and-its-configuration-8990194b71e)\n",
        "\n",
        "Note that `timm` is a very famous library that stores all the state of the art CNN and Vision Transformer models for your needs\n",
        "\n",
        "**Exercise*** Change your model function for a transfer learning one. Does it improve your performance ?"
      ]
    },
    {
      "cell_type": "code",
      "execution_count": null,
      "id": "1f164898",
      "metadata": {
        "editable": true,
        "id": "1f164898"
      },
      "outputs": [],
      "source": []
    },
    {
      "cell_type": "markdown",
      "id": "5f66ddad",
      "metadata": {
        "editable": true,
        "id": "5f66ddad"
      },
      "source": [
        "## Q4. Optimizer and other hyperparameters modifications\n",
        "\n",
        "i ) Now that you have worked on your dataset, it's time to tune your network and your training configuration\n",
        "\n",
        "In Session 1, you tested two different optimizers. What is the effect of its modification? Apply it to your training and compare metrics.\n",
        "\n",
        "ii ) An other important parameter is the learning rate, you can [check its effect on the behavior of your training](https://developers.google.com/machine-learning/crash-course/fitter/graph).\n",
        "\n",
        "You can also try other things such as data augmentation, ...\n",
        "\n",
        "Here is an overview of [possible hyperparameter tuning when training Convolutional Neural Networks](https://towardsdatascience.com/hyper-parameter-tuning-techniques-in-deep-learning-4dad592c63c8)\n",
        "\n",
        "You can try and apply those techniques to your use case.\n",
        "\n",
        "- Does these techniques yield good results ? What about the effort-spent-for-performance ratio ?\n",
        "- Do you find it easy to keep track of your experiments ?\n",
        "- What would you need to have a better overview of the effects of these search ?\n",
        "\n",
        "Don't spend too much time on this part as the next is more important. You can come back to it after you're finished"
      ]
    },
    {
      "cell_type": "code",
      "execution_count": null,
      "id": "807c5936",
      "metadata": {
        "editable": true,
        "id": "807c5936"
      },
      "outputs": [],
      "source": [
        "# Q3.a here"
      ]
    },
    {
      "cell_type": "markdown",
      "id": "f80a9e7e",
      "metadata": {
        "editable": true,
        "id": "f80a9e7e"
      },
      "source": [
        "## Q5. Full Test whole dataset & more improvements\n",
        "\n",
        "a. Now that you have optimised your structure for your dataset, you will apply your model to the test dataset to see the final metrics. Plot all your metrics using the full imbalanced test set. Is it good enough ?\n",
        "If you think so, you can apply it to new images using the sliding window technique with the 3rd notebook\n",
        "\n",
        "- Did it bring any improvements ?"
      ]
    },
    {
      "cell_type": "code",
      "execution_count": null,
      "id": "bbdb1145",
      "metadata": {
        "editable": true,
        "id": "bbdb1145"
      },
      "outputs": [],
      "source": [
        "# Q3a"
      ]
    },
    {
      "cell_type": "markdown",
      "id": "2acb51a3",
      "metadata": {
        "editable": true,
        "id": "2acb51a3"
      },
      "source": [
        "b. If you're not satisfied with the output of your model, consider the following idea: Training a new model with the failures of your previous model.\n",
        "Try the following:\n",
        "- Get all the images with the \"aircraft\" label\n",
        "- Get all the images with the \"background\" label where your best model was wrong (predicted aircraft), as well as some of the background where it was right.\n",
        "- Train a new model or retrain your existing one on this dataset.\n"
      ]
    },
    {
      "cell_type": "code",
      "execution_count": null,
      "id": "b4fa6294",
      "metadata": {
        "editable": true,
        "id": "b4fa6294"
      },
      "outputs": [],
      "source": [
        "# Q3b"
      ]
    },
    {
      "cell_type": "markdown",
      "id": "c82f8413",
      "metadata": {
        "editable": true,
        "id": "c82f8413"
      },
      "source": [
        "c . **SAVE YOUR MODEL**"
      ]
    },
    {
      "cell_type": "code",
      "execution_count": null,
      "id": "f935e088",
      "metadata": {
        "editable": true,
        "id": "f935e088"
      },
      "outputs": [],
      "source": [
        "# Q3c"
      ]
    },
    {
      "cell_type": "markdown",
      "id": "7e36d68f",
      "metadata": {
        "editable": true,
        "id": "7e36d68f"
      },
      "source": [
        "**Have you saved your model ??** You will need it to relaunch the sliding window"
      ]
    },
    {
      "cell_type": "markdown",
      "id": "9beed2e1",
      "metadata": {
        "editable": true,
        "id": "9beed2e1"
      },
      "source": [
        "## Food for thought\n",
        "\n",
        "Reflect on what you just did. What is the most efficient way to gain performance ? data or model / hyperparameters ?\n",
        "\n",
        "Reflect on what is missing from this notebook.\n",
        "\n",
        "Some keywords :\n",
        "\n",
        "- Data preparation ! aka #ETL...\n",
        "- MLOps"
      ]
    },
    {
      "cell_type": "code",
      "execution_count": null,
      "id": "17eaba27",
      "metadata": {
        "id": "17eaba27"
      },
      "outputs": [],
      "source": []
    }
  ],
  "metadata": {
    "jupytext": {
      "cell_metadata_json": true,
      "formats": "ipynb,py:percent"
    },
    "kernelspec": {
      "display_name": "Python 3 (ipykernel)",
      "language": "python",
      "name": "python3"
    },
    "colab": {
      "provenance": []
    }
  },
  "nbformat": 4,
  "nbformat_minor": 5
}